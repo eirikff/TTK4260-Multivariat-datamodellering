{
 "cells": [
  {
   "cell_type": "markdown",
   "metadata": {},
   "source": [
    "# Objective: To develop a mathematical understanding of PCA"
   ]
  },
  {
   "cell_type": "markdown",
   "metadata": {},
   "source": [
    "# Test data"
   ]
  },
  {
   "cell_type": "code",
   "execution_count": 1,
   "metadata": {},
   "outputs": [
    {
     "name": "stdout",
     "output_type": "stream",
     "text": [
      "(4, 3)\n"
     ]
    }
   ],
   "source": [
    "import numpy as np\n",
    "from scipy import linalg as LA\n",
    "X = np.array([\n",
    "        [0.387,4878, 5.42],\n",
    "        [0.723,12104,5.25],\n",
    "        [1,12756,5.52],\n",
    "        [1.524,6787,3.94],\n",
    "    ])\n",
    "X = X - np.mean(X, axis=0)\n",
    "print(X.shape)"
   ]
  },
  {
   "cell_type": "markdown",
   "metadata": {},
   "source": [
    "# Non-Linear Iterative Partial Least-Squares (NIPALS) algorithm"
   ]
  },
  {
   "cell_type": "markdown",
   "metadata": {},
   "source": [
    "Steps to compute PCA using NIPALS algorithm\n",
    "\n",
    "* Step 1: Initialize an arbitrary column vector $\\mathbf{t}_{a}$ either randomly or by just copying any column of X. \n",
    "* Step 2: Take every column of $\\mathbf{X}$, $\\mathbf{X_k}$ and regress it onto the $\\mathbf{t}_{a}$ vector and store the regression coefficeints as $\\mathbf{p}_{ka}$. (Note: This simply means performing an ordinary least squares regression ($y=mx$) with $x=t_{a}$ and $y=X_{k}$ with $m=(\\mathbf{x^T}\\mathbf{x})^{-1}\\mathbf{x^T}\\mathbf{y}$). In the current notation we get \n",
    "$$p_{ka}=\\frac{\\mathbf{t_a^T}\\mathbf{X}_{k}}{\\mathbf{t_a^T}\\mathbf{t_a}}$$\n",
    "\n",
    "Repeat it for each of the columns of $X$ to get the entire vector $\\mathbf{p}_{k}$. This is shown in the illustration\n",
    "above where each column from $X$ is regressed, one at a time, on $\\mathbf{t}_{a}$, to calculate the loading entry, $\\mathbf{𝑝}_{ka}$ \n",
    "\n",
    "In practice we don’t do this one column at time; we can regress all columns in $X$ in go: $$\\mathbf{p_a^T}=\\frac{1}{\\mathbf{t_a^T}\\mathbf{t_a}}.\\mathbf{t_a^T}\\mathbf{X_a}$$  where $\\mathbf{t_a}$ is an $N \\times 1$ column vector, and $\\mathbf{X}_{a}$ us an $N \\times K$ matrix.\n",
    "* The loading vector $\\mathbf{p_a^T}$ won’t have unit length (magnitude) yet. So we simply rescale it to have\n",
    "magnitude of 1.0: $$\\mathbf{p_a^T}=\\frac{\\mathbf{p_a^T}}{\\sqrt{\\mathbf{p_a^T}\\mathbf{p_a}}}$$\n",
    "* Step 4: Regress every row in $X$ onto this normalized loadings vector. As illustrated below, in our linear regression the rows in X are our y-variable each time, while the loadings vector is our x-variable. The regression coefficient becomes the score value for that $𝑖^{th}$ row:\n",
    "\n",
    "$$t_{i,a}=\\frac{\\mathbf{x}_{i}^{T}\\mathbf{p}_{a}}{\\mathbf{p}_{a}^{T}\\mathbf{p}_{a}}$$\n",
    "where $x_{i}^{T}$ is a $K \\times 1$ column vector. We can combine these $N$ separate least-squares models and\n",
    "calculate them in one go to get the entire vector, \n",
    "\n",
    "$$\\mathbf{t}_{a}^{T}=\\frac{1}{\\mathbf{p}_{a}^{T}\\mathbf{p}_{a}}\\mathbf{X}\\mathbf{p}_{a}^{T}$$  where $p_{a}$ is a $K \\times 1$ column vector.\n",
    "* Step 5: Continue looping over steps 2,3,4 until the change in vector $t_{a}$ is below a chosen tolerance\n",
    "* Step 6: On convergence, the score vector and the loading vectors, $\\mathbf{t}_{a}$ and $\\mathbf{p}_{a}$ are stored as the $a^{th}$ column in matrix $\\mathbf{T}$ and $\\mathbf{P}$. We then deflate the $\\mathbf{X}$ matrix. This crucial step removes the variability captured in this component ($t_{a}$ and $p_{a}$) from $\\mathbf{X}$:\n",
    "\n",
    "$$E_{a}=X_{a}-t_{a}p_{a}^{T}$$\n",
    "\n",
    "$$X_{a+1} = E_{a}$$ \n",
    "\n",
    "For the first component, $X_{a}$ is just the preprocessed raw data. So we can see that the second component is actually calculated on the residuals $E_{1}$, obtained after extracting the first component. This is called deflation, and nicely shows why each component is orthogonal to the others. Each subsequent component is only seeing variation remaining after removing all the others; there is no possibility that two components can explain the same type of variability. After deflation we go back to step 1 and repeat the entire process for the next component. "
   ]
  },
  {
   "cell_type": "markdown",
   "metadata": {},
   "source": [
    "In short:\n",
    "\n",
    "1. Guess a scores vector.\n",
    "\n",
    "2. Find a loadings vector that fits this.\n",
    "\n",
    "3. Normalize the found loadings.\n",
    "\n",
    "4. Do regression on all rows of X to find the new scores.\n",
    "\n",
    "5. Do step 2-4 over and over until change is small enough.\n",
    "\n",
    "6. The scores and loadings left are the PCs."
   ]
  },
  {
   "cell_type": "markdown",
   "metadata": {},
   "source": [
    "## IMPLEMENTATION IN PYTHON"
   ]
  },
  {
   "cell_type": "code",
   "execution_count": 2,
   "metadata": {},
   "outputs": [],
   "source": [
    "def PCA(X,no_components):\n",
    "    tol = 0.0000001\n",
    "    it=1000\n",
    "    obsCount,varCount = X.shape\n",
    "    Xa = X - np.mean(X, axis = 0) \n",
    "    #Xh = X-np.tile(np.mean(X,axis=0).reshape(-1,1).T, obsCount).reshape(4,3)\n",
    "    T = np.zeros((obsCount,no_components))\n",
    "    P = np.zeros((varCount,no_components))\n",
    "    pcvar = np.zeros((varCount,1))\n",
    "    varTotal = np.sum(np.var(Xa,axis=0,ddof=1))\n",
    "    currVar = varTotal\n",
    "    nr=0\n",
    "    for h in range(no_components):\n",
    "        th = Xa[:,0].reshape(-1,1)\n",
    "        ende = False\n",
    "        while ende != True:\n",
    "            nr = nr + 1\n",
    "            ph = np.dot(Xa.T,th)/np.dot(th.T,th)\n",
    "            ph = ph /np.linalg.norm(ph)\n",
    "            thnew = np.dot(Xa,ph)/np.dot(ph.T,ph)\n",
    "            prec = np.dot((thnew-th).T,(thnew-th))\n",
    "            th = thnew\n",
    "            if prec <= (tol*tol):\n",
    "                ende = True\n",
    "            elif it <=nr:\n",
    "                ende = True\n",
    "                print(\"Iternation stops without convergence\")\n",
    "        Ea = Xa - np.dot(th,ph.T)\n",
    "        Xa = Ea    \n",
    "        T[:,h] = th.flatten()\n",
    "        P[:,h] = ph.flatten()\n",
    "        oldVar = currVar\n",
    "        currVar = np.sum(np.var(Xa,axis=0,ddof=1))\n",
    "        pcvar[h] = (oldVar - currVar) / varTotal\n",
    "        nr = 0\n",
    "    return T,P,pcvar      "
   ]
  },
  {
   "cell_type": "markdown",
   "metadata": {},
   "source": [
    "## Advantages of the NIPALS algorithm\n",
    "* The NIPALS algorithm computes one component at a time. The first component computed is\n",
    "equivalent to the t1 and p1 vectors that would have been found from an eigenvalue or singular value\n",
    "decomposition.\n",
    "* The algorithm can handle missing data in X.\n",
    "* The algorithm always converges, but the convergence can sometimes be slow.\n",
    "* It is also known as the Power algorithm to calculate eigenvectors and eigenvalues.\n",
    "* It works well for very large data sets.\n",
    "* It is used by most software packages, especially those that handle missing data.\n",
    "* Of interest: it is well known that Google used this algorithm for the early versions of their search engine, called PageRank148."
   ]
  },
  {
   "cell_type": "code",
   "execution_count": 3,
   "metadata": {},
   "outputs": [
    {
     "name": "stdout",
     "output_type": "stream",
     "text": [
      "T (Scores)\n",
      "[[-4.25324997e+03 -8.41288672e-01  8.37859036e-03]\n",
      " [ 2.97275001e+03 -1.25977272e-01 -1.82476780e-01]\n",
      " [ 3.62475003e+03 -1.56843494e-01  1.65224286e-01]\n",
      " [-2.34425007e+03  1.12410944e+00  8.87390330e-03]]\n",
      " \n",
      "P (Loadings)\n",
      "[[ 1.21901390e-05  5.66460728e-01  8.24088735e-01]\n",
      " [ 9.99999997e-01  5.32639787e-05 -5.14047689e-05]\n",
      " [ 7.30130279e-05 -8.24088733e-01  5.66460726e-01]]\n",
      "[[9.99753412e-01]\n",
      " [2.10083377e-04]\n",
      " [3.65048880e-05]]\n"
     ]
    }
   ],
   "source": [
    "no_components=3\n",
    "T,P,pcvar = PCA(X,no_components)\n",
    "print(\"T (Scores)\")\n",
    "print(T)\n",
    "print(\" \")\n",
    "print(\"P (Loadings)\")\n",
    "print(P)\n",
    "print(np.sqrt(pcvar)/np.sum(np.sqrt(pcvar)))"
   ]
  },
  {
   "cell_type": "markdown",
   "metadata": {},
   "source": [
    "# SVD"
   ]
  },
  {
   "cell_type": "code",
   "execution_count": 4,
   "metadata": {},
   "outputs": [
    {
     "name": "stdout",
     "output_type": "stream",
     "text": [
      "T (Scores)\n",
      "[[-4.25324997e+03 -8.41288672e-01 -8.37858943e-03]\n",
      " [ 2.97275001e+03 -1.25977271e-01  1.82476780e-01]\n",
      " [ 3.62475003e+03 -1.56843494e-01 -1.65224286e-01]\n",
      " [-2.34425007e+03  1.12410944e+00 -8.87390454e-03]]\n",
      " \n",
      "P (Loadings)\n",
      "[[ 1.21901390e-05  5.66460727e-01 -8.24088736e-01]\n",
      " [ 9.99999997e-01  5.32639789e-05  5.14047691e-05]\n",
      " [ 7.30130279e-05 -8.24088734e-01 -5.66460725e-01]]\n",
      "Sigma (Variance)\n",
      "[6.74994067e+03 1.41840009e+00 2.46466604e-01]\n"
     ]
    }
   ],
   "source": [
    "from numpy.linalg import svd \n",
    "U, S, PTrans = svd(X, full_matrices=False)\n",
    "Sigma = np.diag(S)\n",
    "T=np.dot(U,Sigma)\n",
    "P=PTrans.T\n",
    "\n",
    "print(\"T (Scores)\")\n",
    "print(T)\n",
    "print(\" \")\n",
    "print(\"P (Loadings)\")\n",
    "print(P)\n",
    "print(\"Sigma (Variance)\")\n",
    "print(S)"
   ]
  },
  {
   "cell_type": "markdown",
   "metadata": {},
   "source": [
    "# SKLEARN PCA"
   ]
  },
  {
   "cell_type": "code",
   "execution_count": 5,
   "metadata": {},
   "outputs": [
    {
     "name": "stdout",
     "output_type": "stream",
     "text": [
      "T (Scores)\n",
      "[[ 4.25324997e+03 -8.41288672e-01 -8.37858943e-03]\n",
      " [-2.97275001e+03 -1.25977271e-01  1.82476780e-01]\n",
      " [-3.62475003e+03 -1.56843494e-01 -1.65224286e-01]\n",
      " [ 2.34425007e+03  1.12410944e+00 -8.87390454e-03]]\n",
      " \n",
      "P (Loadings)\n",
      "[[ 1.21901390e-05  5.66460727e-01 -8.24088736e-01]\n",
      " [ 9.99999997e-01  5.32639789e-05  5.14047691e-05]\n",
      " [ 7.30130279e-05 -8.24088734e-01 -5.66460725e-01]]\n",
      "Sigma (Variance)\n",
      "[6.74994067e+03 1.41840009e+00 2.46466604e-01]\n"
     ]
    }
   ],
   "source": [
    "from sklearn.decomposition import PCA\n",
    "pca = PCA()  \n",
    "T=pca.fit_transform(X)\n",
    "Prans=pca.components_ #eigen vectors.T\n",
    "latent = pca.explained_variance_\n",
    "explained = pca.explained_variance_ratio_\n",
    "P=PTrans.T\n",
    "S=pca.singular_values_\n",
    "Sigma=np.diag(S)\n",
    "print(\"T (Scores)\")\n",
    "print(T)\n",
    "print(\" \")\n",
    "print(\"P (Loadings)\")\n",
    "print(P)\n",
    "print(\"Sigma (Variance)\")\n",
    "print(S)\n",
    "#print(pca.singular_values_/np.sqrt(3))"
   ]
  },
  {
   "cell_type": "code",
   "execution_count": 6,
   "metadata": {},
   "outputs": [
    {
     "data": {
      "text/plain": [
       "array([9.99999955e-01, 4.41567976e-08, 1.33326424e-09])"
      ]
     },
     "execution_count": 6,
     "metadata": {},
     "output_type": "execute_result"
    }
   ],
   "source": [
    "pca.explained_variance_ratio_"
   ]
  },
  {
   "cell_type": "code",
   "execution_count": 7,
   "metadata": {},
   "outputs": [
    {
     "name": "stdout",
     "output_type": "stream",
     "text": [
      "[9.99999955e-01 4.41567976e-08 1.33326424e-09]\n"
     ]
    }
   ],
   "source": [
    "explained_variance_2 = (S ** 2) / 4\n",
    "explained_variance_ratio_2 = (explained_variance_2 / explained_variance_2.sum())\n",
    "print(explained_variance_ratio_2)"
   ]
  },
  {
   "cell_type": "markdown",
   "metadata": {},
   "source": [
    "# Eigenvalue decomposition approach"
   ]
  },
  {
   "cell_type": "markdown",
   "metadata": {},
   "source": [
    "Recall that the latent variable directions (the loading vectors) were oriented so that the variance of the\n",
    "scores in that direction were maximal. We can cast this as an optimization problem. For the first\n",
    "component: $$max (\\phi)=\\mathbf{t_1^T}\\mathbf{t_1}=\\mathbf{p_1^T} \\mathbf{X^T}\\mathbf{Xp_1}$$\n",
    "subject to $$\\mathbf{p_1^T p_1}=1$$.\n",
    "\n",
    "This is equivalent to $$max (\\phi)=\\mathbf{p_1^T} \\mathbf{X^T Xp_1}-\\lambda(\\mathbf{p_1^T}\\mathbf{p_1}-1)$$ \n",
    "\n",
    "because we can move the constraint into the objective function with a Lagrange multiplier, $\\lambda$. The maximum value must occur when the partial derivatives with respect to $\\mathbf{p_1}$, \n",
    "\n",
    "our search variable, are zero: $$\\frac{\\partial \\phi}{\\partial p_1}= \\frac{\\partial (\\mathbf{p_1^T X^T Xp_1}-\\lambda(\\mathbf{p}_{1}^{T}\\mathbf{p}_{1}-1))}{\\partial \\mathbf{p}_1}=0$$\n",
    "\n",
    "$$2\\mathbf{X^T X p_1}-2\\lambda_1\\mathbf{p_1}=0$$\n",
    "\n",
    "$$(\\mathbf{X^TX}-\\lambda_1\\mathbf{I})\\mathbf{p_1}=0$$\n",
    "\n",
    "$$\\mathbf{X^T Xp_1}=\\lambda_{1}\\mathbf{p_1}$$\n",
    "\n",
    "which is just the eigenvalue equation, indicating that $\\mathbf{p_1}$ is the eigenvector of $\\mathbf{X^T X}$ and $\\lambda_1$ is the eigenvalue. One can show that $\\lambda_1=\\mathbf{t_1^T t_1}$, which is proportional to the variance of the first component. In a similar manner we can calculate the second eigenvalue, but this time we add the additional constraint that $\\mathbf{p}_1 \\perp \\mathbf{p}_2$. Writing out this objective function and taking partial derivatives leads to showing that \n",
    "\n",
    "$$\\mathbf{X^TXp_2} = \\lambda_2 \\mathbf{p_2}$$.\n",
    "\n",
    "From this we learn that:\n",
    "* The loadings are the eigenvectors of $\\mathbf{X^TX}$.\n",
    "* Sorting the eigenvalues in order from largest to smallest gives the order of the corresponding eigenvectors, the loadings.\n",
    "* We know from the theory of eigenvalues that if there are distinct eigenvalues, then their eigenvectors are linearly independent (orthogonal).\n",
    "* We also know the eigenvalues of $\\mathbf{X^TX}$ must be real values and positive; this matches with the interpretation that the eigenvalues are proportional to the variance of each score vector.\n",
    "* Also, the sum of the eigenvalues must add up to sum of the diagonal entries of $\\mathbf{X^TX}$, which represents of the total variance of the $\\mathbf{X}$ matrix, if all eigenvectors are extracted. So plotting the eigenvalues is equivalent to showing the proportion of variance explained in X by each component. This is not necessarily a good way to judge the number of components to use, but it is a rough guide: use a Pareto plot of the eigenvalues (though in the context of eigenvalue problems, this plot is called a scree plot)."
   ]
  },
  {
   "cell_type": "code",
   "execution_count": 8,
   "metadata": {},
   "outputs": [
    {
     "name": "stdout",
     "output_type": "stream",
     "text": [
      "T (Scores)\n",
      "[[ 4.25324997e+03  8.41288672e-01  8.37858943e-03]\n",
      " [-2.97275001e+03  1.25977271e-01 -1.82476780e-01]\n",
      " [-3.62475003e+03  1.56843494e-01  1.65224286e-01]\n",
      " [ 2.34425007e+03 -1.12410944e+00  8.87390454e-03]]\n",
      "P (Loadings)\n",
      "[[-1.21901390e-05 -5.66460727e-01  8.24088736e-01]\n",
      " [-9.99999997e-01 -5.32639789e-05 -5.14047691e-05]\n",
      " [-7.30130279e-05  8.24088734e-01  5.66460725e-01]]\n",
      "Sigma (Variance)\n",
      "[6.74994067e+03 1.41840009e+00 2.46466604e-01]\n"
     ]
    }
   ],
   "source": [
    "cov = np.cov(X, rowvar = False)\n",
    "evals , P = LA.eigh(cov)\n",
    "idx = np.argsort(evals)[::-1]\n",
    "P = P[:,idx]\n",
    "evals = evals[idx]\n",
    "T = np.dot(X, P) \n",
    "Sigma=LA.norm(T,axis=0)\n",
    "print(\"T (Scores)\")\n",
    "print(T)\n",
    "print(\"P (Loadings)\")\n",
    "print(P)\n",
    "print(\"Sigma (Variance)\")\n",
    "print(Sigma)"
   ]
  },
  {
   "cell_type": "markdown",
   "metadata": {},
   "source": [
    "## Task 1: Test if the loading vectors are orthogonal and orthonormal or not"
   ]
  },
  {
   "cell_type": "code",
   "execution_count": 9,
   "metadata": {},
   "outputs": [
    {
     "name": "stdout",
     "output_type": "stream",
     "text": [
      "P0 · P1 = -1.8270014701286074e-19\n",
      "P0 · P2 = -2.7070685671791457e-19\n",
      "P1 · P2 = -1.0080824159617591e-16\n"
     ]
    }
   ],
   "source": [
    "from itertools import combinations\n",
    "\n",
    "for i, j in combinations(range(P.shape[1]), 2):\n",
    "    d = P[:,i].dot(P[:,j])\n",
    "    print(f\"P{i} · P{j} = {d}\")"
   ]
  },
  {
   "cell_type": "code",
   "execution_count": 10,
   "metadata": {},
   "outputs": [
    {
     "name": "stdout",
     "output_type": "stream",
     "text": [
      "||P0|| = 0.9999999999999999\n",
      "||P1|| = 1.0\n",
      "||P2|| = 1.0\n"
     ]
    }
   ],
   "source": [
    "for i in range(P.shape[1]):\n",
    "    l = np.linalg.norm(P[:,i])\n",
    "    print(f\"||P{i}|| = {l}\")"
   ]
  },
  {
   "cell_type": "markdown",
   "metadata": {},
   "source": [
    "The dot products are very small, so the loading vectors are more or less pairwise orthogonal. The norms are close to or exactly unit length. Hence, the loading vectors is approximately orthonormal. "
   ]
  },
  {
   "cell_type": "markdown",
   "metadata": {},
   "source": [
    "## Task 2: Test if the scores vectors are orthogonal and orthonormal or not"
   ]
  },
  {
   "cell_type": "code",
   "execution_count": 11,
   "metadata": {},
   "outputs": [
    {
     "name": "stdout",
     "output_type": "stream",
     "text": [
      "T0 · T1 = -1.8189894035458565e-11\n",
      "T0 · T2 = -1.830358087318018e-11\n",
      "T1 · T2 = -1.4030443473700416e-14\n"
     ]
    }
   ],
   "source": [
    "from itertools import combinations\n",
    "\n",
    "for i, j in combinations(range(T.shape[1]), 2):\n",
    "    d = T[:,i].dot(T[:,j])\n",
    "    print(f\"T{i} · T{j} = {d}\")"
   ]
  },
  {
   "cell_type": "code",
   "execution_count": 12,
   "metadata": {},
   "outputs": [
    {
     "name": "stdout",
     "output_type": "stream",
     "text": [
      "||T0|| = 6749.940666380364\n",
      "||T1|| = 1.41840008831963\n",
      "||T2|| = 0.24646660404039109\n"
     ]
    }
   ],
   "source": [
    "for i in range(T.shape[1]):\n",
    "    l = np.linalg.norm(T[:,i])\n",
    "    print(f\"||T{i}|| = {l}\")"
   ]
  },
  {
   "cell_type": "markdown",
   "metadata": {},
   "source": [
    "The dot products are very small, so the score vectors are very close to pairwise orthogonal. However, their norms are nowhere near unit length, so the score vectors are not orthonormal. "
   ]
  },
  {
   "cell_type": "markdown",
   "metadata": {},
   "source": [
    "## Task 3: Add more columns to the original data matrix by: \n",
    "* Make some of the columns to be the linear combination of others\n",
    "* Duplicate some columns\n",
    "* Add noise as some columns \n",
    "* Add a few columns of categorical values\n",
    "\n",
    "Then apply PCA to the dataset and report your findings here"
   ]
  },
  {
   "cell_type": "code",
   "execution_count": 13,
   "metadata": {},
   "outputs": [
    {
     "name": "stdout",
     "output_type": "stream",
     "text": [
      "(4, 13)\n",
      "[[-5.21500000e-01 -4.25325000e+03  3.87500000e-01  8.50597850e+03\n",
      "   9.09000000e-01 -4.25325000e+03  3.87500000e-01 -3.71249390e-01\n",
      "   4.00973840e-01  8.70698019e-01  0.00000000e+00  1.00000000e+00\n",
      "   0.00000000e+00]\n",
      " [-1.85500000e-01  2.97275000e+03  2.17500000e-01 -5.94568550e+03\n",
      "   4.03000000e-01  2.97275000e+03  2.17500000e-01  1.90831421e-01\n",
      "   1.57254101e-01  6.13245861e-01  0.00000000e+00  0.00000000e+00\n",
      "   0.00000000e+00]\n",
      " [ 9.15000000e-02  3.62475000e+03  4.87500000e-01 -7.24940850e+03\n",
      "   3.96000000e-01  3.62475000e+03  4.87500000e-01  2.48591305e-01\n",
      "   7.32978128e-02 -1.98154401e-01  1.00000000e+00  0.00000000e+00\n",
      "   0.00000000e+00]\n",
      " [ 6.15500000e-01 -2.34425000e+03 -1.09250000e+00  4.68911550e+03\n",
      "  -1.70800000e+00 -2.34425000e+03 -1.09250000e+00 -7.08481855e-01\n",
      "   6.73947283e-01  8.57206582e-01  0.00000000e+00  0.00000000e+00\n",
      "   1.00000000e+00]]\n"
     ]
    }
   ],
   "source": [
    "# Add linear combination\n",
    "x = X[:,0] - 2*X[:,1]\n",
    "X = np.append(X, x[:,None], axis=1)\n",
    "\n",
    "x = X[:,2] - X[:,0]\n",
    "X = np.append(X, x[:,None], axis=1)\n",
    "\n",
    "# Duplicate\n",
    "x = X[:,1:3]\n",
    "X = np.append(X, x, axis=1)\n",
    "\n",
    "# Add noise\n",
    "x = np.random.uniform(-1, 1, (4,3))\n",
    "X = np.append(X, x, axis=1)\n",
    "\n",
    "# Add categorical\n",
    "x = np.array([[0, 0, 1, 0], [1, 0, 0, 0], [0, 0, 0, 1]]).T\n",
    "X = np.append(X, x, axis=1)\n",
    "\n",
    "print(X.shape)\n",
    "print(X)\n"
   ]
  },
  {
   "cell_type": "code",
   "execution_count": 14,
   "metadata": {},
   "outputs": [
    {
     "name": "stdout",
     "output_type": "stream",
     "text": [
      "P (loadings), shape = (13, 13)\n",
      "[[ 4.97457238e-06  2.69491315e-01  5.69687663e-02 -2.31899940e-01\n",
      "   5.37466765e-01 -3.82501210e-01  1.94088570e-01  1.28411954e-01\n",
      "  -9.49558583e-02  2.59691783e-01 -4.79036715e-01  8.83386713e-02\n",
      "  -2.59378825e-01]\n",
      " [ 4.08249947e-01  8.98505761e-02  1.89684910e-02 -7.72828796e-02\n",
      "  -1.61249933e-01 -1.73764244e-01 -6.73061617e-02  1.45209969e-01\n",
      "  -3.44164566e-01 -6.65705387e-01 -1.77733535e-01 -3.16148738e-01\n",
      "  -2.09672733e-01]\n",
      " [ 2.98102850e-05 -3.94586051e-01 -4.80694293e-02 -1.45031891e-01\n",
      "  -3.66859239e-01 -3.98920922e-04 -3.61611919e-01 -3.23580039e-02\n",
      "   2.37476277e-03  3.25049935e-01 -6.29919410e-01 -2.14582731e-01\n",
      "   7.78044732e-02]\n",
      " [-8.16494919e-01  8.97901629e-02  1.90317843e-02 -7.73341809e-02\n",
      "   2.36643974e-02  3.34742242e-01  4.52241776e-03  9.83685216e-02\n",
      "  -1.92273745e-01 -2.86681921e-01 -1.81145921e-01 -1.42092857e-01\n",
      "  -1.56402871e-01]\n",
      " [ 2.48357127e-05 -6.64077366e-01 -1.05038196e-01  8.68680487e-02\n",
      "   6.59465043e-01 -1.32046331e-02 -1.64262292e-01 -3.14486914e-02\n",
      "  -3.25667500e-02 -2.07791405e-01  6.86775157e-02 -1.46166466e-01\n",
      "   8.40443168e-02]\n",
      " [ 4.08249947e-01  8.98505761e-02  1.89684910e-02 -7.72828796e-02\n",
      "   2.08573680e-01  8.43249451e-01  7.63363296e-02  5.14546012e-02\n",
      "  -4.03809060e-02  9.22963272e-02 -1.84569819e-01  3.20494782e-02\n",
      "  -1.03133718e-01]\n",
      " [ 2.98102850e-05 -3.94586051e-01 -4.80694293e-02 -1.45031891e-01\n",
      "  -1.96106215e-01 -5.27649678e-03  8.74300889e-01 -1.84163093e-02\n",
      "  -1.12985730e-02 -2.53191833e-02 -7.81440888e-02 -9.29173682e-02\n",
      "   4.71315200e-02]\n",
      " [ 4.21886279e-05 -1.38212671e-01  1.83239173e-01  6.21868712e-02\n",
      "  -5.64639906e-02 -2.59507288e-03 -2.19763493e-02  9.52601128e-01\n",
      "   7.94509868e-02  9.09486097e-02  9.72522559e-02  4.32048346e-02\n",
      "   8.01118002e-02]\n",
      " [-2.28691285e-05  1.09573371e-01 -4.03981125e-01 -6.10750865e-02\n",
      "   2.54621716e-02  1.27877394e-03  8.38665032e-03  8.84296364e-02\n",
      "   8.27792924e-01 -2.60864068e-01 -1.54366945e-01 -1.24658140e-01\n",
      "  -1.40935000e-01]\n",
      " [-4.12897324e-05  7.49309180e-02 -7.17612148e-01  4.32541749e-01\n",
      "  -2.84605491e-02 -6.78249955e-03  6.19789349e-02  1.39482629e-01\n",
      "  -3.09090628e-01  2.79874797e-01  7.14258362e-02 -2.11713751e-01\n",
      "  -2.10669690e-01]\n",
      " [ 3.24789812e-05 -2.81105873e-02 -2.70269413e-01 -8.12318210e-01\n",
      "  -1.32192123e-02  8.95153382e-03 -1.32764621e-01  6.35014997e-02\n",
      "  -1.05458154e-01  1.54513196e-01  4.21411967e-01 -1.44222078e-01\n",
      "  -1.04908515e-01]\n",
      " [-3.81093158e-05 -1.86976867e-01 -3.45637434e-01 -1.02724394e-01\n",
      "  -1.16534695e-01 -3.19855499e-03 -7.36484804e-02  5.50292629e-02\n",
      "  -1.41451184e-01 -2.38987579e-01 -1.45490813e-01  8.42061829e-01\n",
      "  -7.49668515e-02]\n",
      " [-2.10072855e-05  2.79815285e-01 -2.75250887e-01 -1.16529329e-01\n",
      "   1.21350199e-01  5.45083883e-03  4.85722982e-02  7.70746247e-02\n",
      "  -1.20498864e-01 -1.16510027e-01 -1.65193107e-01 -5.37357510e-02\n",
      "   8.66622794e-01]]\n",
      "\n",
      "T (scores), shape = (4, 4)\n",
      "[[-1.04178665e+04 -1.63720759e+00 -8.34437601e-01 -8.22533091e-02]\n",
      " [ 7.28187206e+03 -1.09921766e-01 -9.22281561e-01  6.01811262e-01]\n",
      " [ 8.87871328e+03 -2.46142037e-01 -6.52484189e-01 -6.50438111e-01]\n",
      " [-5.74271906e+03  2.45011972e+00 -6.64510459e-01 -9.33071740e-02]]\n"
     ]
    }
   ],
   "source": [
    "U, S, V = np.linalg.svd(X)\n",
    "P = V.T\n",
    "T = U @ np.diag(S)\n",
    "\n",
    "print(f\"P (loadings), shape = {P.shape}\")\n",
    "print(P)\n",
    "print()\n",
    "print(f\"T (scores), shape = {T.shape}\")\n",
    "print(T)"
   ]
  },
  {
   "cell_type": "code",
   "execution_count": 15,
   "metadata": {},
   "outputs": [
    {
     "name": "stdout",
     "output_type": "stream",
     "text": [
      "T0 · T1 = 9.094947017729282e-12\n",
      "T0 · T2 = -2.2737367544323206e-12\n",
      "T0 · T3 = -9.094947017729282e-13\n",
      "T1 · T2 = 8.881784197001252e-16\n",
      "T1 · T3 = 5.551115123125783e-17\n",
      "T2 · T3 = -2.220446049250313e-16\n",
      "\n",
      "P0 · P1 = 1.384013559693673e-16\n",
      "P0 · P2 = 7.216395708389416e-17\n",
      "P0 · P3 = -8.644985931640519e-17\n",
      "P0 · P4 = 2.1707457081280605e-16\n",
      "P0 · P5 = -3.1800102400132374e-16\n",
      "P0 · P6 = 9.345517369284571e-17\n",
      "P0 · P7 = 5.4187959304530263e-17\n",
      "P0 · P8 = 2.16882686219331e-17\n",
      "P0 · P9 = 2.0352378161700734e-16\n",
      "P0 · P10 = -1.941238493990129e-16\n",
      "P0 · P11 = 3.121419890920022e-17\n",
      "P0 · P12 = -7.230134958062171e-17\n",
      "P1 · P2 = -1.6943945182504454e-16\n",
      "P1 · P3 = 3.4677675398328587e-18\n",
      "P1 · P4 = 3.4365798506155196e-17\n",
      "P1 · P5 = -7.178535808211429e-17\n",
      "P1 · P6 = 7.946291903491407e-17\n",
      "P1 · P7 = 5.2915442496445343e-17\n",
      "P1 · P8 = -8.693792135521295e-17\n",
      "P1 · P9 = -2.229740455894779e-16\n",
      "P1 · P10 = -7.463562591587836e-17\n",
      "P1 · P11 = -7.420054514741911e-17\n",
      "P1 · P12 = -1.6774842002576154e-16\n",
      "P2 · P3 = -5.264798818083943e-17\n",
      "P2 · P4 = -4.476358919762213e-17\n",
      "P2 · P5 = -5.337878344580473e-17\n",
      "P2 · P6 = -3.607788478450433e-17\n",
      "P2 · P7 = -3.6153541969312435e-18\n",
      "P2 · P8 = 6.343514527216511e-17\n",
      "P2 · P9 = -1.171332606214875e-16\n",
      "P2 · P10 = -1.796046355541906e-17\n",
      "P2 · P11 = 7.445941700604253e-17\n",
      "P2 · P12 = 6.47440602198726e-17\n",
      "P3 · P4 = -9.068985160277184e-17\n",
      "P3 · P5 = 6.075185049435661e-17\n",
      "P3 · P6 = -1.3516213501847547e-17\n",
      "P3 · P7 = -4.8023812158227115e-17\n",
      "P3 · P8 = 4.341408914543455e-17\n",
      "P3 · P9 = 9.24963381819216e-17\n",
      "P3 · P10 = 9.46857087121735e-17\n",
      "P3 · P11 = -1.801412842585164e-18\n",
      "P3 · P12 = 6.043846026337365e-17\n",
      "P4 · P5 = -1.283212746986339e-16\n",
      "P4 · P6 = 3.7653172725892016e-17\n",
      "P4 · P7 = 6.884725347537703e-17\n",
      "P4 · P8 = -5.807004046427742e-17\n",
      "P4 · P9 = -1.0245201538544e-17\n",
      "P4 · P10 = -1.4200096104820289e-16\n",
      "P4 · P11 = 2.2784942186198993e-18\n",
      "P4 · P12 = -8.820169359109847e-17\n",
      "P5 · P6 = -5.602753301274504e-17\n",
      "P5 · P7 = -2.644481957567093e-17\n",
      "P5 · P8 = 1.5021166009683772e-17\n",
      "P5 · P9 = -8.253296084796184e-17\n",
      "P5 · P10 = 1.3134178117865412e-16\n",
      "P5 · P11 = -1.7215581833550074e-17\n",
      "P5 · P12 = 3.937200462670998e-17\n",
      "P6 · P7 = 2.017834044567053e-17\n",
      "P6 · P8 = -1.1958546474854027e-17\n",
      "P6 · P9 = -6.137041311752852e-18\n",
      "P6 · P10 = -5.87431147716743e-17\n",
      "P6 · P11 = -1.3400254042492703e-17\n",
      "P6 · P12 = -3.038739669016131e-17\n",
      "P7 · P8 = -2.240028682526449e-17\n",
      "P7 · P9 = 2.770258213986145e-17\n",
      "P7 · P10 = -5.898927391719644e-17\n",
      "P7 · P11 = -1.5965072638333783e-17\n",
      "P7 · P12 = -2.3676637291834002e-17\n",
      "P8 · P9 = -4.192528668136294e-17\n",
      "P8 · P10 = 5.337171609308266e-18\n",
      "P8 · P11 = 2.2260957243856615e-17\n",
      "P8 · P12 = 2.609454506777097e-17\n",
      "P9 · P10 = -9.343916425271724e-17\n",
      "P9 · P11 = 6.615547931562843e-18\n",
      "P9 · P12 = -6.53442784702703e-17\n",
      "P10 · P11 = 1.6628303646904707e-17\n",
      "P10 · P12 = 4.1058242877917034e-17\n",
      "P11 · P12 = 3.0034668508669726e-17\n"
     ]
    }
   ],
   "source": [
    "from itertools import combinations\n",
    "\n",
    "for i, j in combinations(range(T.shape[1]), 2):\n",
    "    d = T[:,i].dot(T[:,j])\n",
    "    print(f\"T{i} · T{j} = {d}\")\n",
    "\n",
    "print()\n",
    "for i, j in combinations(range(P.shape[1]), 2):\n",
    "    d = P[:,i].dot(P[:,j])\n",
    "    print(f\"P{i} · P{j} = {d}\")"
   ]
  },
  {
   "cell_type": "code",
   "execution_count": 16,
   "metadata": {},
   "outputs": [
    {
     "name": "stdout",
     "output_type": "stream",
     "text": [
      "||T0|| = 16533.84328925055\n",
      "||T1|| = 2.959088375039947\n",
      "||T2|| = 1.5537693375924309\n",
      "||T3|| = 0.8948286799484996\n",
      "\n",
      "||P0|| = 1.0000000000000002\n",
      "||P1|| = 1.0\n",
      "||P2|| = 0.9999999999999999\n",
      "||P3|| = 1.0\n",
      "||P4|| = 1.0\n",
      "||P5|| = 0.9999999999999999\n",
      "||P6|| = 1.0\n",
      "||P7|| = 1.0\n",
      "||P8|| = 0.9999999999999999\n",
      "||P9|| = 0.9999999999999999\n",
      "||P10|| = 1.0\n",
      "||P11|| = 1.0\n",
      "||P12|| = 1.0\n"
     ]
    }
   ],
   "source": [
    "for i in range(T.shape[1]):\n",
    "    l = np.linalg.norm(T[:,i])\n",
    "    print(f\"||T{i}|| = {l}\")\n",
    "\n",
    "print()\n",
    "for i in range(P.shape[1]):\n",
    "    l = np.linalg.norm(P[:,i])\n",
    "    print(f\"||P{i}|| = {l}\")"
   ]
  },
  {
   "cell_type": "code",
   "execution_count": 17,
   "metadata": {},
   "outputs": [
    {
     "name": "stdout",
     "output_type": "stream",
     "text": [
      "Explained variance by PC-0: 99.96730%\n",
      "Explained variance by PC-1: 0.01789%\n",
      "Explained variance by PC-2: 0.00939%\n",
      "Explained variance by PC-3: 0.00541%\n"
     ]
    }
   ],
   "source": [
    "explained_variance = S/np.sum(S)\n",
    "for i, ev in enumerate(explained_variance):\n",
    "    print(f\"Explained variance by PC-{i}: {100*ev:.5f}%\")"
   ]
  },
  {
   "cell_type": "markdown",
   "metadata": {},
   "source": [
    "All loadings and score vectors are pairwise orthogonal as they should be, and all the loadings are also unit length. This is what is expected from the PCA, and we get this even though we have appended all different types of data. \n",
    "\n",
    "We also see that almost all of the explained variance lies in the first PC. We also see that the magnitude of the first scores vector is significantly larger than the others. Perhaps it is that the scores vector explaining the largest variance is the one with largest norm?\n",
    "\n"
   ]
  }
 ],
 "metadata": {
  "kernelspec": {
   "display_name": "Python 3",
   "language": "python",
   "name": "python3"
  },
  "language_info": {
   "codemirror_mode": {
    "name": "ipython",
    "version": 3
   },
   "file_extension": ".py",
   "mimetype": "text/x-python",
   "name": "python",
   "nbconvert_exporter": "python",
   "pygments_lexer": "ipython3",
   "version": "3.8.5"
  }
 },
 "nbformat": 4,
 "nbformat_minor": 4
}
