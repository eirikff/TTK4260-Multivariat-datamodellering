{
 "cells": [
  {
   "cell_type": "markdown",
   "metadata": {},
   "source": [
    "## Task 11.1\n",
    "\n",
    "Load the data from 'Heart.csv', a dataset collecting a sample of medical conditions about persons from US (each row describes a person, each column describes whether the persons have or not some condition. E.g., 'AHD = true' means that that person has a heart disease)."
   ]
  },
  {
   "cell_type": "code",
   "execution_count": 3,
   "metadata": {},
   "outputs": [],
   "source": [
    "# import the necessary stuff\n",
    "import pandas as pd\n",
    "import numpy as np\n",
    "import statsmodels.api as sm\n",
    "import scipy.stats.distributions as dist"
   ]
  },
  {
   "cell_type": "code",
   "execution_count": 4,
   "metadata": {},
   "outputs": [
    {
     "output_type": "execute_result",
     "data": {
      "text/plain": [
       "   Unnamed: 0  Age  Sex     ChestPain  RestBP  Chol  Fbs  RestECG  MaxHR  \\\n",
       "0           1   63    1       typical     145   233    1        2    150   \n",
       "1           2   67    1  asymptomatic     160   286    0        2    108   \n",
       "2           3   67    1  asymptomatic     120   229    0        2    129   \n",
       "3           4   37    1    nonanginal     130   250    0        0    187   \n",
       "4           5   41    0    nontypical     130   204    0        2    172   \n",
       "\n",
       "   ExAng  Oldpeak  Slope   Ca        Thal  AHD  \n",
       "0      0      2.3      3  0.0       fixed   No  \n",
       "1      1      1.5      2  3.0      normal  Yes  \n",
       "2      1      2.6      2  2.0  reversable  Yes  \n",
       "3      0      3.5      3  0.0      normal   No  \n",
       "4      0      1.4      1  0.0      normal   No  "
      ],
      "text/html": "<div>\n<style scoped>\n    .dataframe tbody tr th:only-of-type {\n        vertical-align: middle;\n    }\n\n    .dataframe tbody tr th {\n        vertical-align: top;\n    }\n\n    .dataframe thead th {\n        text-align: right;\n    }\n</style>\n<table border=\"1\" class=\"dataframe\">\n  <thead>\n    <tr style=\"text-align: right;\">\n      <th></th>\n      <th>Unnamed: 0</th>\n      <th>Age</th>\n      <th>Sex</th>\n      <th>ChestPain</th>\n      <th>RestBP</th>\n      <th>Chol</th>\n      <th>Fbs</th>\n      <th>RestECG</th>\n      <th>MaxHR</th>\n      <th>ExAng</th>\n      <th>Oldpeak</th>\n      <th>Slope</th>\n      <th>Ca</th>\n      <th>Thal</th>\n      <th>AHD</th>\n    </tr>\n  </thead>\n  <tbody>\n    <tr>\n      <th>0</th>\n      <td>1</td>\n      <td>63</td>\n      <td>1</td>\n      <td>typical</td>\n      <td>145</td>\n      <td>233</td>\n      <td>1</td>\n      <td>2</td>\n      <td>150</td>\n      <td>0</td>\n      <td>2.3</td>\n      <td>3</td>\n      <td>0.0</td>\n      <td>fixed</td>\n      <td>No</td>\n    </tr>\n    <tr>\n      <th>1</th>\n      <td>2</td>\n      <td>67</td>\n      <td>1</td>\n      <td>asymptomatic</td>\n      <td>160</td>\n      <td>286</td>\n      <td>0</td>\n      <td>2</td>\n      <td>108</td>\n      <td>1</td>\n      <td>1.5</td>\n      <td>2</td>\n      <td>3.0</td>\n      <td>normal</td>\n      <td>Yes</td>\n    </tr>\n    <tr>\n      <th>2</th>\n      <td>3</td>\n      <td>67</td>\n      <td>1</td>\n      <td>asymptomatic</td>\n      <td>120</td>\n      <td>229</td>\n      <td>0</td>\n      <td>2</td>\n      <td>129</td>\n      <td>1</td>\n      <td>2.6</td>\n      <td>2</td>\n      <td>2.0</td>\n      <td>reversable</td>\n      <td>Yes</td>\n    </tr>\n    <tr>\n      <th>3</th>\n      <td>4</td>\n      <td>37</td>\n      <td>1</td>\n      <td>nonanginal</td>\n      <td>130</td>\n      <td>250</td>\n      <td>0</td>\n      <td>0</td>\n      <td>187</td>\n      <td>0</td>\n      <td>3.5</td>\n      <td>3</td>\n      <td>0.0</td>\n      <td>normal</td>\n      <td>No</td>\n    </tr>\n    <tr>\n      <th>4</th>\n      <td>5</td>\n      <td>41</td>\n      <td>0</td>\n      <td>nontypical</td>\n      <td>130</td>\n      <td>204</td>\n      <td>0</td>\n      <td>2</td>\n      <td>172</td>\n      <td>0</td>\n      <td>1.4</td>\n      <td>1</td>\n      <td>0.0</td>\n      <td>normal</td>\n      <td>No</td>\n    </tr>\n  </tbody>\n</table>\n</div>"
     },
     "metadata": {},
     "execution_count": 4
    }
   ],
   "source": [
    "# load the dataset, and check whether the loading was successful\n",
    "database = pd.read_csv('Heart.csv')\n",
    "database.head()"
   ]
  },
  {
   "cell_type": "markdown",
   "metadata": {},
   "source": [
    "## Task 11.2\n",
    "\n",
    "Assume that the proportion of the population in Ireland that havs heart disease is 42%. Create a statistical test that decides, using the just loaded dataset, whether there are more people suffering from heart disease in the US than in Ireland."
   ]
  },
  {
   "cell_type": "code",
   "execution_count": 24,
   "metadata": {},
   "outputs": [],
   "source": [
    "# setting up the notation: \n",
    "#\n",
    "# null hypothesis  = H0 = \"the proportion of US population that has AHD is <= 0.42\"\n",
    "# alternative hyp. = H1 = \"the proportion of US population that has AHD is >  0.42\""
   ]
  },
  {
   "cell_type": "code",
   "execution_count": 6,
   "metadata": {},
   "outputs": [
    {
     "output_type": "stream",
     "name": "stdout",
     "text": [
      "proportion of people in the dataset that has AHD = 0.45874587458745875\n"
     ]
    }
   ],
   "source": [
    "# compute the empirical proportion in the dataset\n",
    "empirical_p = len(database[database['AHD'] == 'Yes']) / len(database)\n",
    "\n",
    "# debug\n",
    "print('proportion of people in the dataset that has AHD = {}'.format(empirical_p))"
   ]
  },
  {
   "cell_type": "markdown",
   "metadata": {},
   "source": [
    "Important consideration, from theoretical perspectives: even if the empirical proportion is ~0.46, we should be careful and do not say immediately \"H1 is true\", since we need to check whether the deviation from 0.42 is *statistically significant*. E.g., if we were having a database of only 1 person, and that person has AHD, just by looking at the empirical mean one would say that everybody in US has heart problems.\n",
    "\n",
    "This means there is the need for taking into account the amount of information that there is in the dataset, and thus there is the need for doing statistical hypothesis testing.\n",
    "\n",
    "Continue thus with setting up a p-test as in the tasks below."
   ]
  },
  {
   "cell_type": "markdown",
   "metadata": {},
   "source": [
    "### Task 11.2.1\n",
    "\n",
    "As a first step (this should always be the first step, by the way), decide which significance level the test should be (a typical choice is 5%, i.e., 0.05). Remember that selecting a significance level of X% means that there is a probability of X% of rejecting H0 under the assumption that H0 is true (i.e., were H0 true, we would have X% of chances of saying 'H0 false', a type I error). Remember also that decreasing the probability of type I errors increases though the probability of type II errors.\n",
    "\n",
    "See also https://en.wikipedia.org/wiki/Statistical_significance and https://en.wikipedia.org/wiki/Type_I_and_type_II_errors for more information."
   ]
  },
  {
   "cell_type": "code",
   "execution_count": 15,
   "metadata": {},
   "outputs": [],
   "source": [
    "significance_level = 0.05"
   ]
  },
  {
   "cell_type": "markdown",
   "metadata": {},
   "source": [
    "### Task 11.2.2\n",
    "\n",
    "Setup a single population proportion test, consisting of:\n",
    "\n",
    "1. computing the standard score (i.e., the estimated number of standard deviations by which the estimated proportion differs from the hypothesized one) as\n",
    "$$\n",
    "    z\n",
    "    =\n",
    "    \\frac\n",
    "    {\\text{estimated proportion} - \\text{least favorable proportion in H0}}\n",
    "    {\\text{standard error of the estimate}}\n",
    "$$\n",
    "where the estimated proportion is the empirical mean estimated from the dataset, the least favorable proportion in H0 is that proportion among all the ones in H0 that makes the difference in the numerator above as small as possible, and\n",
    "$$\n",
    "    \\text{standard error of the estimate}\n",
    "    =\n",
    "    \\sqrt\n",
    "    {\n",
    "        \\frac\n",
    "        {\n",
    "            \\text{least favorable proportion in H0}\n",
    "            \\cdot\n",
    "            ( \\text{1 - least favorable proportion in H0} )\n",
    "        }\n",
    "        {n}\n",
    "    }\n",
    "$$\n",
    "with $n$ the number of samples in the dataset. (See also https://en.wikipedia.org/wiki/Standard_score)\n",
    "\n",
    "2. computing a p value, i.e., the probability of obtaining a z score at least as extreme given that the null hypothesis is true, implicitly assuming that, because of the central limit theorem, this statistics is approximately normally distributed. Hint: think at what p is from a graphical perspective (i.e., a probability, and thus an area), at the fact that we are assuming z to be normal, and considering that we have been measuring a specific z. See also https://en.wikipedia.org/wiki/Z-test.\n",
    "\n",
    "Quite more info and mathematical details in https://courses.lumenlearning.com/suny-wmopen-concepts-statistics/chapter/hypothesis-test-for-a-population-proportion-1-of-3/ and following pages, even if this may be an overkill."
   ]
  },
  {
   "cell_type": "code",
   "execution_count": 16,
   "metadata": {},
   "outputs": [
    {
     "output_type": "stream",
     "name": "stdout",
     "text": [
      "value of the s-dev:   0.028354195386919447\nvalue of the z-score: 1.3664952949196816\np value:              0.08589177833179695\nPassing? False\n"
     ]
    }
   ],
   "source": [
    "# setting up the least favorable proportion in H0\n",
    "lfp = 0.42\n",
    "\n",
    "# estimating the standard deviation\n",
    "n = len(database)\n",
    "standard_deviation = np.sqrt(lfp*(1-lfp)/n)\n",
    "\n",
    "# computing the z-score\n",
    "z = (empirical_p - lfp)/standard_deviation\n",
    "\n",
    "# computing the p value associated to the z-score\n",
    "p_value = 1 * (1 - dist.norm.cdf(z))\n",
    "\n",
    "# debug\n",
    "print('value of the s-dev:   {}'.format(standard_deviation))\n",
    "print('value of the z-score: {}'.format(z))\n",
    "print('p value:              {}'.format(p_value))\n",
    "print(\"Passing?\", p_value <= significance_level)\n",
    "\n",
    "#value of the s-dev:   0.028354195386919447\n",
    "#value of the z-score: 1.3664952949196816\n",
    "#p value:              0.1717835566635938\n"
   ]
  },
  {
   "cell_type": "markdown",
   "metadata": {},
   "source": [
    "### Task 11.2.3\n",
    "\n",
    "Draw some conclusions from the computed p-value and selected significance level."
   ]
  },
  {
   "source": [
    "Since the p-value is greater than the significance level, we cannot reject the null hypothesis outright. However, since the p-value is relatively close to the significance level, we could gather more data to be more certain of whether it is random or statistically significant. "
   ],
   "cell_type": "markdown",
   "metadata": {}
  },
  {
   "cell_type": "markdown",
   "metadata": {},
   "source": [
    "The p-value is bigger than the significance level 0.05 selected before. So, we cannot reject H0 -- meaning that we cannot conclude that there is a significant difference in the proportions of populations having heart diseases in Ireland and the US.\n",
    "\n",
    "At the same time the p value is not very big, so somehow the conclusion is not very strong."
   ]
  },
  {
   "cell_type": "markdown",
   "metadata": {},
   "source": [
    "## Task 11.3\n",
    "\n",
    "Create a statistical test that decides, using the loaded dataset, whether there is any statistical difference between the population proportion of males and females having heart diseases in US.\n",
    "\n",
    "Do virtually the same statistical steps as before, with the only change that the standard deviation for the estimates is\n",
    "$$\n",
    "    \\text{standard error of the estimate}\n",
    "    =\n",
    "    \\sqrt\n",
    "    {\n",
    "        \\text{estimated total proportion assuming H0}\n",
    "        \\cdot\n",
    "        ( \\text{1 - estimated total proportion assuming H0} )\n",
    "        \\cdot\n",
    "        \\left(\n",
    "            \\frac{1}{n_m} + \\frac{1}{n_f}\n",
    "        \\right)\n",
    "    }\n",
    "$$\n"
   ]
  },
  {
   "cell_type": "code",
   "execution_count": 28,
   "metadata": {},
   "outputs": [],
   "source": [
    "# setting up the notation: \n",
    "#\n",
    "# null hypothesis  = H0 = \"the proportions of US males and females that have AHD are the same\"\n",
    "# alternative hyp. = H1 = \"the proportions of US males and females that have AHD are different\""
   ]
  },
  {
   "cell_type": "code",
   "execution_count": 17,
   "metadata": {},
   "outputs": [
    {
     "output_type": "stream",
     "name": "stdout",
     "text": [
      "pf = 0.25773195876288657\npm = 0.5533980582524272\nnf = 97\nnm = 206\np  = 0.45874587458745875\n"
     ]
    },
    {
     "output_type": "execute_result",
     "data": {
      "text/plain": [
       "        HeartDisease  Total\n",
       "Gender                     \n",
       "Female      0.257732     97\n",
       "Male        0.553398    206"
      ],
      "text/html": "<div>\n<style scoped>\n    .dataframe tbody tr th:only-of-type {\n        vertical-align: middle;\n    }\n\n    .dataframe tbody tr th {\n        vertical-align: top;\n    }\n\n    .dataframe thead th {\n        text-align: right;\n    }\n</style>\n<table border=\"1\" class=\"dataframe\">\n  <thead>\n    <tr style=\"text-align: right;\">\n      <th></th>\n      <th>HeartDisease</th>\n      <th>Total</th>\n    </tr>\n    <tr>\n      <th>Gender</th>\n      <th></th>\n      <th></th>\n    </tr>\n  </thead>\n  <tbody>\n    <tr>\n      <th>Female</th>\n      <td>0.257732</td>\n      <td>97</td>\n    </tr>\n    <tr>\n      <th>Male</th>\n      <td>0.553398</td>\n      <td>206</td>\n    </tr>\n  </tbody>\n</table>\n</div>"
     },
     "metadata": {},
     "execution_count": 17
    }
   ],
   "source": [
    "# fix the database so that the values are more readable\n",
    "database['Gender'] = database.Sex.replace({1: \"Male\", 0: \"Female\"})\n",
    "\n",
    "# extract another database that has only two columns and rows\n",
    "# showing only population proportions and population totals\n",
    "database2 = database.groupby(\"Gender\")['AHD'].agg([lambda z: np.mean(z=='Yes'), \"size\"])\n",
    "database2.columns = [\"HeartDisease\", 'Total']\n",
    "\n",
    "# for readability\n",
    "empirical_p_f = database2.HeartDisease.Female\n",
    "empirical_p_m = database2.HeartDisease.Male\n",
    "n_f           = database2.Total.Female\n",
    "n_m           = database2.Total.Male\n",
    "\n",
    "# note that this stays the same as before\n",
    "empirical_p   = len(database[database['AHD'] == 'Yes']) / len(database)\n",
    "\n",
    "# debug\n",
    "print('pf = {}'.format(empirical_p_f))\n",
    "print('pm = {}'.format(empirical_p_m))\n",
    "print('nf = {}'.format(n_f))\n",
    "print('nm = {}'.format(n_m))\n",
    "print('p  = {}'.format(empirical_p))\n",
    "database2"
   ]
  },
  {
   "cell_type": "code",
   "execution_count": 25,
   "metadata": {},
   "outputs": [
    {
     "output_type": "stream",
     "name": "stdout",
     "text": [
      "value of the s-dev:   0.0613604495249707\nvalue of the z-score: 4.818512605081534\np value:              1.446323897313917e-06\nPassing? True\n"
     ]
    }
   ],
   "source": [
    "# estimating the standard deviation\n",
    "standard_deviation = np.sqrt(empirical_p*(1-empirical_p)*(1/n_f + 1/n_m))\n",
    "\n",
    "# computing the z-score\n",
    "z = (empirical_p_m - empirical_p_f)/standard_deviation\n",
    "\n",
    "# computing the p value associated to the z-score\n",
    "p_value = 2 * (1 - dist.norm.cdf(z))\n",
    "\n",
    "# debug\n",
    "print('value of the s-dev:   {}'.format(standard_deviation))\n",
    "print('value of the z-score: {}'.format(z))\n",
    "print('p value:              {}'.format(p_value))\n",
    "print(\"Passing?\", p_value <= significance_level)\n",
    "\n",
    "#value of the s-dev:   0.0613604495249707\n",
    "#value of the z-score: 4.818512605081534\n",
    "#p value:              1.4463238972316502e-06"
   ]
  },
  {
   "cell_type": "markdown",
   "metadata": {},
   "source": [
    "## Task 11.3.3\n",
    "\n",
    "Draw some conclusions from the computed p-value and selected significance level."
   ]
  },
  {
   "source": [
    "Since the p-value is so much smaller than the significance level, we can relatively safely reject the null hypothesis and say with high degree of certainty that men have higher prevalence of heart desease than women. "
   ],
   "cell_type": "markdown",
   "metadata": {}
  },
  {
   "cell_type": "markdown",
   "metadata": {},
   "source": [
    "The p-value is much smaller than the significance level 0.05 selected before. So, we can safely reject H0 -- meaning that we can conclude that there is a significant difference in the proportions of male and female populations having heart diseases in US."
   ]
  }
 ],
 "metadata": {
  "kernelspec": {
   "display_name": "Python 3",
   "language": "python",
   "name": "python3"
  },
  "language_info": {
   "codemirror_mode": {
    "name": "ipython",
    "version": 3
   },
   "file_extension": ".py",
   "mimetype": "text/x-python",
   "name": "python",
   "nbconvert_exporter": "python",
   "pygments_lexer": "ipython3",
   "version": "3.8.5"
  }
 },
 "nbformat": 4,
 "nbformat_minor": 4
}